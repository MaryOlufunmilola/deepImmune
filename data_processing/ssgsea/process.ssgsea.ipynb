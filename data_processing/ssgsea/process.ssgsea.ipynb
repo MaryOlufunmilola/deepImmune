{
 "cells": [
  {
   "cell_type": "markdown",
   "metadata": {},
   "source": [
    "## Processing of ssgsea data"
   ]
  },
  {
   "cell_type": "code",
   "execution_count": 1,
   "metadata": {},
   "outputs": [
    {
     "name": "stdout",
     "output_type": "stream",
     "text": [
      "[1] \"/home/xw165/ssgsea//ssgseaMat_ACC.txt\"\n"
     ]
    },
    {
     "name": "stderr",
     "output_type": "stream",
     "text": [
      "Warning message in fread(file):\n",
      "“Detected 79 column names but the data has 80 columns (i.e. invalid file). Added 1 extra default column name for the first column which is guessed to be row names or an index. Use setnames() afterwards if this guess is not correct, or fix the file write command that created the file to create a valid file.”"
     ]
    },
    {
     "name": "stdout",
     "output_type": "stream",
     "text": [
      "[1] \"/home/xw165/ssgsea//ssgseaMat_BLCA.txt\"\n"
     ]
    },
    {
     "name": "stderr",
     "output_type": "stream",
     "text": [
      "Warning message in fread(file):\n",
      "“Detected 430 column names but the data has 431 columns (i.e. invalid file). Added 1 extra default column name for the first column which is guessed to be row names or an index. Use setnames() afterwards if this guess is not correct, or fix the file write command that created the file to create a valid file.”"
     ]
    },
    {
     "name": "stdout",
     "output_type": "stream",
     "text": [
      "[1] \"/home/xw165/ssgsea//ssgseaMat_BRCA.txt\"\n"
     ]
    },
    {
     "name": "stderr",
     "output_type": "stream",
     "text": [
      "Warning message in fread(file):\n",
      "“Detected 1217 column names but the data has 1218 columns (i.e. invalid file). Added 1 extra default column name for the first column which is guessed to be row names or an index. Use setnames() afterwards if this guess is not correct, or fix the file write command that created the file to create a valid file.”"
     ]
    },
    {
     "name": "stdout",
     "output_type": "stream",
     "text": [
      "[1] \"/home/xw165/ssgsea//ssgseaMat_CESC.txt\"\n"
     ]
    },
    {
     "name": "stderr",
     "output_type": "stream",
     "text": [
      "Warning message in fread(file):\n",
      "“Detected 309 column names but the data has 310 columns (i.e. invalid file). Added 1 extra default column name for the first column which is guessed to be row names or an index. Use setnames() afterwards if this guess is not correct, or fix the file write command that created the file to create a valid file.”"
     ]
    },
    {
     "name": "stdout",
     "output_type": "stream",
     "text": [
      "[1] \"/home/xw165/ssgsea//ssgseaMat_CHOL.txt\"\n"
     ]
    },
    {
     "name": "stderr",
     "output_type": "stream",
     "text": [
      "Warning message in fread(file):\n",
      "“Detected 45 column names but the data has 46 columns (i.e. invalid file). Added 1 extra default column name for the first column which is guessed to be row names or an index. Use setnames() afterwards if this guess is not correct, or fix the file write command that created the file to create a valid file.”"
     ]
    },
    {
     "name": "stdout",
     "output_type": "stream",
     "text": [
      "[1] \"/home/xw165/ssgsea//ssgseaMat_COAD.txt\"\n"
     ]
    },
    {
     "name": "stderr",
     "output_type": "stream",
     "text": [
      "Warning message in fread(file):\n",
      "“Detected 512 column names but the data has 513 columns (i.e. invalid file). Added 1 extra default column name for the first column which is guessed to be row names or an index. Use setnames() afterwards if this guess is not correct, or fix the file write command that created the file to create a valid file.”"
     ]
    },
    {
     "name": "stdout",
     "output_type": "stream",
     "text": [
      "[1] \"/home/xw165/ssgsea//ssgseaMat_DLBC.txt\"\n"
     ]
    },
    {
     "name": "stderr",
     "output_type": "stream",
     "text": [
      "Warning message in fread(file):\n",
      "“Detected 48 column names but the data has 49 columns (i.e. invalid file). Added 1 extra default column name for the first column which is guessed to be row names or an index. Use setnames() afterwards if this guess is not correct, or fix the file write command that created the file to create a valid file.”"
     ]
    },
    {
     "name": "stdout",
     "output_type": "stream",
     "text": [
      "[1] \"/home/xw165/ssgsea//ssgseaMat_ESCA.txt\"\n"
     ]
    },
    {
     "name": "stderr",
     "output_type": "stream",
     "text": [
      "Warning message in fread(file):\n",
      "“Detected 173 column names but the data has 174 columns (i.e. invalid file). Added 1 extra default column name for the first column which is guessed to be row names or an index. Use setnames() afterwards if this guess is not correct, or fix the file write command that created the file to create a valid file.”"
     ]
    },
    {
     "name": "stdout",
     "output_type": "stream",
     "text": [
      "[1] \"/home/xw165/ssgsea//ssgseaMat_GBM.txt\"\n"
     ]
    },
    {
     "name": "stderr",
     "output_type": "stream",
     "text": [
      "Warning message in fread(file):\n",
      "“Detected 173 column names but the data has 174 columns (i.e. invalid file). Added 1 extra default column name for the first column which is guessed to be row names or an index. Use setnames() afterwards if this guess is not correct, or fix the file write command that created the file to create a valid file.”"
     ]
    },
    {
     "name": "stdout",
     "output_type": "stream",
     "text": [
      "[1] \"/home/xw165/ssgsea//ssgseaMat_HNSC.txt\"\n"
     ]
    },
    {
     "name": "stderr",
     "output_type": "stream",
     "text": [
      "Warning message in fread(file):\n",
      "“Detected 546 column names but the data has 547 columns (i.e. invalid file). Added 1 extra default column name for the first column which is guessed to be row names or an index. Use setnames() afterwards if this guess is not correct, or fix the file write command that created the file to create a valid file.”"
     ]
    },
    {
     "name": "stdout",
     "output_type": "stream",
     "text": [
      "[1] \"/home/xw165/ssgsea//ssgseaMat_KICH.txt\"\n"
     ]
    },
    {
     "name": "stderr",
     "output_type": "stream",
     "text": [
      "Warning message in fread(file):\n",
      "“Detected 89 column names but the data has 90 columns (i.e. invalid file). Added 1 extra default column name for the first column which is guessed to be row names or an index. Use setnames() afterwards if this guess is not correct, or fix the file write command that created the file to create a valid file.”"
     ]
    },
    {
     "name": "stdout",
     "output_type": "stream",
     "text": [
      "[1] \"/home/xw165/ssgsea//ssgseaMat_KIRC.txt\"\n"
     ]
    },
    {
     "name": "stderr",
     "output_type": "stream",
     "text": [
      "Warning message in fread(file):\n",
      "“Detected 607 column names but the data has 608 columns (i.e. invalid file). Added 1 extra default column name for the first column which is guessed to be row names or an index. Use setnames() afterwards if this guess is not correct, or fix the file write command that created the file to create a valid file.”"
     ]
    },
    {
     "name": "stdout",
     "output_type": "stream",
     "text": [
      "[1] \"/home/xw165/ssgsea//ssgseaMat_KIRP.txt\"\n"
     ]
    },
    {
     "name": "stderr",
     "output_type": "stream",
     "text": [
      "Warning message in fread(file):\n",
      "“Detected 321 column names but the data has 322 columns (i.e. invalid file). Added 1 extra default column name for the first column which is guessed to be row names or an index. Use setnames() afterwards if this guess is not correct, or fix the file write command that created the file to create a valid file.”"
     ]
    },
    {
     "name": "stdout",
     "output_type": "stream",
     "text": [
      "[1] \"/home/xw165/ssgsea//ssgseaMat_LAML.txt\"\n"
     ]
    },
    {
     "name": "stderr",
     "output_type": "stream",
     "text": [
      "Warning message in fread(file):\n",
      "“Detected 6 column names but the data has 7 columns (i.e. invalid file). Added 1 extra default column name for the first column which is guessed to be row names or an index. Use setnames() afterwards if this guess is not correct, or fix the file write command that created the file to create a valid file.”"
     ]
    },
    {
     "name": "stdout",
     "output_type": "stream",
     "text": [
      "[1] \"/home/xw165/ssgsea//ssgseaMat_LGG.txt\"\n"
     ]
    },
    {
     "name": "stderr",
     "output_type": "stream",
     "text": [
      "Warning message in fread(file):\n",
      "“Detected 529 column names but the data has 530 columns (i.e. invalid file). Added 1 extra default column name for the first column which is guessed to be row names or an index. Use setnames() afterwards if this guess is not correct, or fix the file write command that created the file to create a valid file.”"
     ]
    },
    {
     "name": "stdout",
     "output_type": "stream",
     "text": [
      "[1] \"/home/xw165/ssgsea//ssgseaMat_LIHC.txt\"\n"
     ]
    },
    {
     "name": "stderr",
     "output_type": "stream",
     "text": [
      "Warning message in fread(file):\n",
      "“Detected 424 column names but the data has 425 columns (i.e. invalid file). Added 1 extra default column name for the first column which is guessed to be row names or an index. Use setnames() afterwards if this guess is not correct, or fix the file write command that created the file to create a valid file.”"
     ]
    },
    {
     "name": "stdout",
     "output_type": "stream",
     "text": [
      "[1] \"/home/xw165/ssgsea//ssgseaMat_LUAD.txt\"\n"
     ]
    },
    {
     "name": "stderr",
     "output_type": "stream",
     "text": [
      "Warning message in fread(file):\n",
      "“Detected 585 column names but the data has 586 columns (i.e. invalid file). Added 1 extra default column name for the first column which is guessed to be row names or an index. Use setnames() afterwards if this guess is not correct, or fix the file write command that created the file to create a valid file.”"
     ]
    },
    {
     "name": "stdout",
     "output_type": "stream",
     "text": [
      "[1] \"/home/xw165/ssgsea//ssgseaMat_LUSC.txt\"\n"
     ]
    },
    {
     "name": "stderr",
     "output_type": "stream",
     "text": [
      "Warning message in fread(file):\n",
      "“Detected 550 column names but the data has 551 columns (i.e. invalid file). Added 1 extra default column name for the first column which is guessed to be row names or an index. Use setnames() afterwards if this guess is not correct, or fix the file write command that created the file to create a valid file.”"
     ]
    },
    {
     "name": "stdout",
     "output_type": "stream",
     "text": [
      "[1] \"/home/xw165/ssgsea//ssgseaMat_MESO.txt\"\n"
     ]
    },
    {
     "name": "stderr",
     "output_type": "stream",
     "text": [
      "Warning message in fread(file):\n",
      "“Detected 86 column names but the data has 87 columns (i.e. invalid file). Added 1 extra default column name for the first column which is guessed to be row names or an index. Use setnames() afterwards if this guess is not correct, or fix the file write command that created the file to create a valid file.”"
     ]
    },
    {
     "name": "stdout",
     "output_type": "stream",
     "text": [
      "[1] \"/home/xw165/ssgsea//ssgseaMat_OV.txt\"\n"
     ]
    },
    {
     "name": "stderr",
     "output_type": "stream",
     "text": [
      "Warning message in fread(file):\n",
      "“Detected 379 column names but the data has 380 columns (i.e. invalid file). Added 1 extra default column name for the first column which is guessed to be row names or an index. Use setnames() afterwards if this guess is not correct, or fix the file write command that created the file to create a valid file.”"
     ]
    },
    {
     "name": "stdout",
     "output_type": "stream",
     "text": [
      "[1] \"/home/xw165/ssgsea//ssgseaMat_PAAD.txt\"\n"
     ]
    },
    {
     "name": "stderr",
     "output_type": "stream",
     "text": [
      "Warning message in fread(file):\n",
      "“Detected 182 column names but the data has 183 columns (i.e. invalid file). Added 1 extra default column name for the first column which is guessed to be row names or an index. Use setnames() afterwards if this guess is not correct, or fix the file write command that created the file to create a valid file.”"
     ]
    },
    {
     "name": "stdout",
     "output_type": "stream",
     "text": [
      "[1] \"/home/xw165/ssgsea//ssgseaMat_PCPG.txt\"\n"
     ]
    },
    {
     "name": "stderr",
     "output_type": "stream",
     "text": [
      "Warning message in fread(file):\n",
      "“Detected 186 column names but the data has 187 columns (i.e. invalid file). Added 1 extra default column name for the first column which is guessed to be row names or an index. Use setnames() afterwards if this guess is not correct, or fix the file write command that created the file to create a valid file.”"
     ]
    },
    {
     "name": "stdout",
     "output_type": "stream",
     "text": [
      "[1] \"/home/xw165/ssgsea//ssgseaMat_PRAD.txt\"\n"
     ]
    },
    {
     "name": "stderr",
     "output_type": "stream",
     "text": [
      "Warning message in fread(file):\n",
      "“Detected 551 column names but the data has 552 columns (i.e. invalid file). Added 1 extra default column name for the first column which is guessed to be row names or an index. Use setnames() afterwards if this guess is not correct, or fix the file write command that created the file to create a valid file.”"
     ]
    },
    {
     "name": "stdout",
     "output_type": "stream",
     "text": [
      "[1] \"/home/xw165/ssgsea//ssgseaMat_READ.txt\"\n"
     ]
    },
    {
     "name": "stderr",
     "output_type": "stream",
     "text": [
      "Warning message in fread(file):\n",
      "“Detected 177 column names but the data has 178 columns (i.e. invalid file). Added 1 extra default column name for the first column which is guessed to be row names or an index. Use setnames() afterwards if this guess is not correct, or fix the file write command that created the file to create a valid file.”"
     ]
    },
    {
     "name": "stdout",
     "output_type": "stream",
     "text": [
      "[1] \"/home/xw165/ssgsea//ssgseaMat_SARC.txt\"\n"
     ]
    },
    {
     "name": "stderr",
     "output_type": "stream",
     "text": [
      "Warning message in fread(file):\n",
      "“Detected 265 column names but the data has 266 columns (i.e. invalid file). Added 1 extra default column name for the first column which is guessed to be row names or an index. Use setnames() afterwards if this guess is not correct, or fix the file write command that created the file to create a valid file.”"
     ]
    },
    {
     "name": "stdout",
     "output_type": "stream",
     "text": [
      "[1] \"/home/xw165/ssgsea//ssgseaMat_SKCM.txt\"\n"
     ]
    },
    {
     "name": "stderr",
     "output_type": "stream",
     "text": [
      "Warning message in fread(file):\n",
      "“Detected 472 column names but the data has 473 columns (i.e. invalid file). Added 1 extra default column name for the first column which is guessed to be row names or an index. Use setnames() afterwards if this guess is not correct, or fix the file write command that created the file to create a valid file.”"
     ]
    },
    {
     "name": "stdout",
     "output_type": "stream",
     "text": [
      "[1] \"/home/xw165/ssgsea//ssgseaMat_STAD.txt\"\n"
     ]
    },
    {
     "name": "stderr",
     "output_type": "stream",
     "text": [
      "Warning message in fread(file):\n",
      "“Detected 407 column names but the data has 408 columns (i.e. invalid file). Added 1 extra default column name for the first column which is guessed to be row names or an index. Use setnames() afterwards if this guess is not correct, or fix the file write command that created the file to create a valid file.”"
     ]
    },
    {
     "name": "stdout",
     "output_type": "stream",
     "text": [
      "[1] \"/home/xw165/ssgsea//ssgseaMat_TGCT.txt\"\n"
     ]
    },
    {
     "name": "stderr",
     "output_type": "stream",
     "text": [
      "Warning message in fread(file):\n",
      "“Detected 156 column names but the data has 157 columns (i.e. invalid file). Added 1 extra default column name for the first column which is guessed to be row names or an index. Use setnames() afterwards if this guess is not correct, or fix the file write command that created the file to create a valid file.”"
     ]
    },
    {
     "name": "stdout",
     "output_type": "stream",
     "text": [
      "[1] \"/home/xw165/ssgsea//ssgseaMat_THCA.txt\"\n"
     ]
    },
    {
     "name": "stderr",
     "output_type": "stream",
     "text": [
      "Warning message in fread(file):\n",
      "“Detected 568 column names but the data has 569 columns (i.e. invalid file). Added 1 extra default column name for the first column which is guessed to be row names or an index. Use setnames() afterwards if this guess is not correct, or fix the file write command that created the file to create a valid file.”"
     ]
    },
    {
     "name": "stdout",
     "output_type": "stream",
     "text": [
      "[1] \"/home/xw165/ssgsea//ssgseaMat_THYM.txt\"\n"
     ]
    },
    {
     "name": "stderr",
     "output_type": "stream",
     "text": [
      "Warning message in fread(file):\n",
      "“Detected 121 column names but the data has 122 columns (i.e. invalid file). Added 1 extra default column name for the first column which is guessed to be row names or an index. Use setnames() afterwards if this guess is not correct, or fix the file write command that created the file to create a valid file.”"
     ]
    },
    {
     "name": "stdout",
     "output_type": "stream",
     "text": [
      "[1] \"/home/xw165/ssgsea//ssgseaMat_UCEC.txt\"\n"
     ]
    },
    {
     "name": "stderr",
     "output_type": "stream",
     "text": [
      "Warning message in fread(file):\n",
      "“Detected 583 column names but the data has 584 columns (i.e. invalid file). Added 1 extra default column name for the first column which is guessed to be row names or an index. Use setnames() afterwards if this guess is not correct, or fix the file write command that created the file to create a valid file.”"
     ]
    },
    {
     "name": "stdout",
     "output_type": "stream",
     "text": [
      "[1] \"/home/xw165/ssgsea//ssgseaMat_UCS.txt\"\n"
     ]
    },
    {
     "name": "stderr",
     "output_type": "stream",
     "text": [
      "Warning message in fread(file):\n",
      "“Detected 56 column names but the data has 57 columns (i.e. invalid file). Added 1 extra default column name for the first column which is guessed to be row names or an index. Use setnames() afterwards if this guess is not correct, or fix the file write command that created the file to create a valid file.”"
     ]
    },
    {
     "name": "stdout",
     "output_type": "stream",
     "text": [
      "[1] \"/home/xw165/ssgsea//ssgseaMat_UVM.txt\"\n"
     ]
    },
    {
     "name": "stderr",
     "output_type": "stream",
     "text": [
      "Warning message in fread(file):\n",
      "“Detected 80 column names but the data has 81 columns (i.e. invalid file). Added 1 extra default column name for the first column which is guessed to be row names or an index. Use setnames() afterwards if this guess is not correct, or fix the file write command that created the file to create a valid file.”"
     ]
    }
   ],
   "source": [
    "library(data.table)\n",
    "files = list.files(\"~/data/tcga/ssgsea/\", pattern=\"*.txt\", full.names = T)\n",
    "aas = list()\n",
    "for(file in files){\n",
    "    print(file)\n",
    "    aa = fread(file)\n",
    "    pathways = aa$V1\n",
    "    aa[,V1:=NULL]\n",
    "    bb =t(aa)\n",
    "    colnames(bb) = pathways\n",
    "    aas[[file]] = bb\n",
    "}\n"
   ]
  },
  {
   "cell_type": "code",
   "execution_count": 2,
   "metadata": {},
   "outputs": [],
   "source": [
    "ssgsea.dt = do.call(rbind, aas)\n",
    "# ssgsea.dt = data.table(ssgsea.dt)"
   ]
  },
  {
   "cell_type": "code",
   "execution_count": 3,
   "metadata": {},
   "outputs": [
    {
     "data": {
      "text/html": [
       "<ol class=list-inline>\n",
       "\t<li>10912</li>\n",
       "\t<li>4872</li>\n",
       "</ol>\n"
      ],
      "text/latex": [
       "\\begin{enumerate*}\n",
       "\\item 10912\n",
       "\\item 4872\n",
       "\\end{enumerate*}\n"
      ],
      "text/markdown": [
       "1. 10912\n",
       "2. 4872\n",
       "\n",
       "\n"
      ],
      "text/plain": [
       "[1] 10912  4872"
      ]
     },
     "metadata": {},
     "output_type": "display_data"
    }
   ],
   "source": [
    "dim(ssgsea.dt)\n",
    "write.table(file=\"/home/as892/project/icb/risk/models/ssgsea/ssgsea.txt\",  x = ssgsea.dt[1:10,],  sep=\"\\t\", quote=F, row.names=F, col.names=T )"
   ]
  },
  {
   "cell_type": "code",
   "execution_count": 11,
   "metadata": {},
   "outputs": [],
   "source": [
    "system(\"mkdir /home/as892/project/icb/risk/models/tcga\")\n",
    "system(\"mv /home/as892/survData.Rdata /home/as892/project/icb/risk/models/tcga/.\")"
   ]
  },
  {
   "cell_type": "code",
   "execution_count": 5,
   "metadata": {},
   "outputs": [
    {
     "name": "stderr",
     "output_type": "stream",
     "text": [
      "Warning message in eval(expr, envir, enclos):\n",
      "“NAs introduced by coercion”Warning message in eval(expr, envir, enclos):\n",
      "“NAs introduced by coercion”"
     ]
    }
   ],
   "source": [
    "# load(\"/home/as892/project/icb/risk/models/tcga/survData.Rdata\")\n",
    "# load(\"/home/as892/project/icb/risk/models/tcga/pancancer_clinical_tcgabiolinks.RData\")\n",
    "Clinicaldata=read.delim('~/data/tcga/clinical_PANCAN_patient_with_followup.tsv',stringsAsFactors = F)\n",
    "#extract ID,survive info and censor info\n",
    "Clinicaldata_sub=Clinicaldata[,c(2,5,7,8)]\n",
    "#assemble data\n",
    "Clinicaldata_sub[Clinicaldata_sub$vital_status=='Dead','vital_status']=1\n",
    "Clinicaldata_sub[Clinicaldata_sub$vital_status=='Alive','vital_status']=0\n",
    "Clinicaldata_sub$survive=NA\n",
    "Clinicaldata_sub[Clinicaldata_sub$vital_status==1,'survive']<-\n",
    "  Clinicaldata_sub[Clinicaldata_sub$vital_status==1,'days_to_death']\n",
    "Clinicaldata_sub[Clinicaldata_sub$vital_status==0,'survive']<-\n",
    "  Clinicaldata_sub[Clinicaldata_sub$vital_status==0,'days_to_last_followup']\n",
    "Clinicaldata_sub$bcr_patient_barcode=gsub(pattern = '-',replacement = '.',\n",
    "                                          Clinicaldata_sub$bcr_patient_barcode)\n",
    "Clinicaldata_sub=Clinicaldata_sub[,c(1,5,2)]\n",
    "Clinicaldata_sub$survive=as.numeric(Clinicaldata_sub$survive)\n",
    "Clinicaldata_sub$vital_status=as.numeric(Clinicaldata_sub$vital_status)\n",
    "Clinicaldata_sub = Clinicaldata_sub[!(is.na(Clinicaldata_sub$survive) | is.na(Clinicaldata_sub$vital_status)),]"
   ]
  },
  {
   "cell_type": "code",
   "execution_count": 8,
   "metadata": {},
   "outputs": [
    {
     "data": {
      "text/html": [
       "<ol class=list-inline>\n",
       "\t<li>10956</li>\n",
       "\t<li>3</li>\n",
       "</ol>\n"
      ],
      "text/latex": [
       "\\begin{enumerate*}\n",
       "\\item 10956\n",
       "\\item 3\n",
       "\\end{enumerate*}\n"
      ],
      "text/markdown": [
       "1. 10956\n",
       "2. 3\n",
       "\n",
       "\n"
      ],
      "text/plain": [
       "[1] 10956     3"
      ]
     },
     "metadata": {},
     "output_type": "display_data"
    },
    {
     "data": {
      "text/html": [
       "<ol class=list-inline>\n",
       "\t<li>10912</li>\n",
       "\t<li>4872</li>\n",
       "</ol>\n"
      ],
      "text/latex": [
       "\\begin{enumerate*}\n",
       "\\item 10912\n",
       "\\item 4872\n",
       "\\end{enumerate*}\n"
      ],
      "text/markdown": [
       "1. 10912\n",
       "2. 4872\n",
       "\n",
       "\n"
      ],
      "text/plain": [
       "[1] 10912  4872"
      ]
     },
     "metadata": {},
     "output_type": "display_data"
    }
   ],
   "source": [
    "dim(Clinicaldata_sub)\n",
    "dim(ssgsea.dt)"
   ]
  },
  {
   "cell_type": "markdown",
   "metadata": {},
   "source": [
    "### 1 is death and 0 is censor  "
   ]
  },
  {
   "cell_type": "code",
   "execution_count": 4,
   "metadata": {},
   "outputs": [
    {
     "data": {
      "text/html": [
       "<ol class=list-inline>\n",
       "\t<li>'TCGA.OR.A5J1.01A'</li>\n",
       "\t<li>'TCGA.OR.A5J2.01A'</li>\n",
       "\t<li>'TCGA.OR.A5J3.01A'</li>\n",
       "\t<li>'TCGA.OR.A5J5.01A'</li>\n",
       "\t<li>'TCGA.OR.A5J6.01A'</li>\n",
       "\t<li>'TCGA.OR.A5J7.01A'</li>\n",
       "</ol>\n"
      ],
      "text/latex": [
       "\\begin{enumerate*}\n",
       "\\item 'TCGA.OR.A5J1.01A'\n",
       "\\item 'TCGA.OR.A5J2.01A'\n",
       "\\item 'TCGA.OR.A5J3.01A'\n",
       "\\item 'TCGA.OR.A5J5.01A'\n",
       "\\item 'TCGA.OR.A5J6.01A'\n",
       "\\item 'TCGA.OR.A5J7.01A'\n",
       "\\end{enumerate*}\n"
      ],
      "text/markdown": [
       "1. 'TCGA.OR.A5J1.01A'\n",
       "2. 'TCGA.OR.A5J2.01A'\n",
       "3. 'TCGA.OR.A5J3.01A'\n",
       "4. 'TCGA.OR.A5J5.01A'\n",
       "5. 'TCGA.OR.A5J6.01A'\n",
       "6. 'TCGA.OR.A5J7.01A'\n",
       "\n",
       "\n"
      ],
      "text/plain": [
       "[1] \"TCGA.OR.A5J1.01A\" \"TCGA.OR.A5J2.01A\" \"TCGA.OR.A5J3.01A\" \"TCGA.OR.A5J5.01A\"\n",
       "[5] \"TCGA.OR.A5J6.01A\" \"TCGA.OR.A5J7.01A\""
      ]
     },
     "metadata": {},
     "output_type": "display_data"
    }
   ],
   "source": [
    "head(rownames(ssgsea.dt))"
   ]
  },
  {
   "cell_type": "code",
   "execution_count": 11,
   "metadata": {},
   "outputs": [
    {
     "data": {
      "text/html": [
       "10049"
      ],
      "text/latex": [
       "10049"
      ],
      "text/markdown": [
       "10049"
      ],
      "text/plain": [
       "[1] 10049"
      ]
     },
     "metadata": {},
     "output_type": "display_data"
    }
   ],
   "source": [
    "ssgsea.samp = substr(rownames(ssgsea.dt),1,12) \n",
    "common.samp = intersect(ssgsea.samp, Clinicaldata_sub$bcr_patient_barcode)\n",
    "length(common.samp)\n",
    "ssgsea.matched = ssgsea.dt[match(common.samp, ssgsea.samp), ]\n",
    "survival.matched = Clinicaldata_sub[match(common.samp, Clinicaldata_sub$bcr_patient_barcode), ]"
   ]
  },
  {
   "cell_type": "code",
   "execution_count": 14,
   "metadata": {},
   "outputs": [],
   "source": [
    "write.table(file=\"/home/as892/project/icb/data/tcga_ssgsea.txt\",x = ssgsea.matched,\n",
    "            row.names = F, col.names =T,  sep=\"\\t\", quote=F )\n",
    "write.table(file=\"/home/as892/project/icb/data/tcga_survival.txt\",x = survival.matched[,2:3],\n",
    "            row.names = F, col.names =T,  sep=\"\\t\", quote=F )"
   ]
  },
  {
   "cell_type": "code",
   "execution_count": null,
   "metadata": {},
   "outputs": [],
   "source": [
    "write.table(file=\"/home/as892/project/icb/data/tcga_ssgsea_train.txt\",x = ssgsea.matched[1:9000,],\n",
    "            row.names = F, col.names =T,  sep=\"\\t\", quote=F )\n",
    "write.table(file=\"/home/as892/project/icb/data/tcga_survival_train.txt\",x = survival.matched[1:9000,2:3],\n",
    "            row.names = F, col.names =T,  sep=\"\\t\", quote=F )\n",
    "write.table(file=\"/home/as892/project/icb/data/tcga_ssgsea_test.txt\",x = ssgsea.matched[9001:9500,],\n",
    "            row.names = F, col.names =T,  sep=\"\\t\", quote=F )\n",
    "write.table(file=\"/home/as892/project/icb/data/tcga_survival_test.txt\",x = survival.matched[9001:9500,2:3],\n",
    "            row.names = F, col.names =T,  sep=\"\\t\", quote=F )\n",
    "write.table(file=\"/home/as892/project/icb/data/tcga_ssgsea_eval.txt\",x = ssgsea.matched[9501:nrow(ssgsea.matched),],\n",
    "            row.names = F, col.names =T,  sep=\"\\t\", quote=F )\n",
    "write.table(file=\"/home/as892/project/icb/data/tcga_survival_eval.txt\",x = survival.matched[9501:nrow(ssgsea.matched),2:3],\n",
    "            row.names = F, col.names =T,  sep=\"\\t\", quote=F )"
   ]
  },
  {
   "cell_type": "code",
   "execution_count": null,
   "metadata": {},
   "outputs": [],
   "source": []
  }
 ],
 "metadata": {
  "kernelspec": {
   "display_name": "R",
   "language": "R",
   "name": "ir"
  },
  "language_info": {
   "codemirror_mode": "r",
   "file_extension": ".r",
   "mimetype": "text/x-r-source",
   "name": "R",
   "pygments_lexer": "r",
   "version": "3.4.1"
  }
 },
 "nbformat": 4,
 "nbformat_minor": 2
}
