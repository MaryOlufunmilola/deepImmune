{
 "cells": [
  {
   "cell_type": "markdown",
   "metadata": {},
   "source": [
    "## Processing of genetech data. \n",
    "Run th file in BCB cluster\n"
   ]
  },
  {
   "cell_type": "code",
   "execution_count": null,
   "metadata": {},
   "outputs": [],
   "source": [
    "library(data.table)\n",
    "\n",
    "genetech_all = fread(\"/liulab/asahu/data/ssgsea/xiaoman/biomarker_Genetech.txt\")\n",
    "pathway_order = fread(\"/liulab/asahu/data/ssgsea/xiaoman/ssgsea.order_tcga.txt\")\n",
    "head(colnames(genetech_all))\n",
    "genetech_all[1:10, 1:10, with=F]\n",
    "genetech_all[1, seq( ncol(genetech_all)-40,  ncol(genetech_all)), with=F]\n",
    "# ssgsea.inx \n",
    "# load(\"/liulab/asahu/data/ssgsea/xiaoman/ssgsea.order.list.RData\")\n",
    "ssgsea.inx = match(pathway_order$pathway, colnames(genetech_all))\n",
    "stopifnot(sum(is.na(ssgsea.inx)) == 0) \n",
    "genetech_ssgsea_mat = matrix(genetech_all[,ssgsea.inx, with=F])\n",
    "empty_slots = grepl(tcga.phenotypes, pattern=\"empty\")\n",
    "col.genetech = colnames(genetech_all)\n",
    "col.genetech = gsub(col.genetech, pattern=\"\\\\.$\", replacement= \"\")\n",
    "col.genetech = gsub(col.genetech, pattern=\"\\\\.\\\\.\", replacement= \".\")\n",
    "col.genetech = gsub(col.genetech, pattern=\"\\\\.\", replacement= \"_\")\n",
    "col.genetech = gsub(col.genetech, pattern=\"Tregs\", replacement= \"(Tregs)\")\n",
    "col.genetech = gsub(col.genetech, pattern=\"TAM_M2\", replacement= \"M2\")\n",
    "\n",
    "tcga.phenotypes_ne = tcga.phenotypes[!empty_slots]\n",
    "genentech.inx = match(tcga.phenotypes_ne, col.genetech)\n",
    "genentech.without.survival = genentech.inx[-(1:2)]\n",
    "genetech_phenotype =  genetech_all[,genentech.without.survival, with=F]\n",
    "\n",
    "ext.mat = matrix(NA, nrow=nrow(genetech_phenotype), ncol=10)\n",
    "colnames(ext.mat) = c(\"Responder\", \"Nonresponder\", paste(\"empty\", 3:10))\n",
    "genetech_phenotype_na = cbind(NA, NA, genetech_phenotype, ext.mat)\n",
    "genetech_phenotype_na$Responder = ifelse(genetech_all$Responder, 1, 0)\n",
    "genetech_phenotype_na$Nonresponder = ifelse(genetech_all$Responder, 0, 1)\n",
    "\n",
    "# genetech_ssgsea$No.benefits\n",
    "# tcga_ssgsea_mat = t(as.matrix(tcga_ssgsea[,-V1, with=F]))\n",
    "tcga_ssgsea_mat= t(as.matrix(tcga_ssgsea[,seq(2,ncol(tcga_ssgsea)),with=F]))\n",
    "colnames(tcga_ssgsea_mat) = tcga_ssgsea$V1\n",
    "identical(tcga_ssgsea$V1, pathway_order$pathway)\n",
    "tcga_ssgsea_mat = tcga_ssgsea_mat[,pathway_order$order]\n",
    "patient.name = substr(rownames(tcga_ssgsea_mat), 1,12)\n",
    "# phenotype data\n",
    "tcga_phenotype = fread(\"/liulab/asahu/data/ssgsea/xiaoman/biomarker_TCGA_type.txt\")\n",
    "tcga_phenotype = tcga_phenotype[!is.na(PDCD1)]\n",
    "identical(patient.name, tcga_phenotype$bcr_patient_barcode)\n",
    "\n",
    "tcga_ssgsea_sel = tcga_ssgsea_mat[patient.name %in% tcga_phenotype$bcr_patient_barcode, ] \n",
    "patient.name.sel = substr(rownames(tcga_ssgsea_sel), 1,12)\n",
    "phenotype_sel = tcga_phenotype[match(patient.name.sel, tcga_phenotype$bcr_patient_barcode)]\n",
    "\n",
    "ext.mat = matrix(NA, nrow=nrow(phenotype.mat), ncol=10)\n",
    "\n",
    "\n",
    "# introduce 10 NA \n",
    "\n",
    "phenotype.dt = phenotype_sel[,setdiff(seq(ncol(phenotype_sel)), c(1,4,5,29,30,39)),with=F]\n",
    "phenotype.mat = as.matrix(phenotype.dt)\n",
    "phenotype.mat = apply(phenotype.mat, c(1,2), as.numeric)\n",
    "ext.mat = matrix(NA, nrow=nrow(phenotype.mat), ncol=10)\n",
    "colnames(ext.mat) = paste(\"empty\", 1:10)\n",
    "\n",
    "load(file=\"/liulab/asahu/data/ssgsea/xiaoman/processed/tcga_phenotypes.RData\")\n",
    "# phenotypes.tcga = fread(file=\"/liulab/asahu/data/ssgsea/xiaoman/processed/tcga_phenotypes.txt\")\n",
    "phenotpyes = c( gsub(colnames(phenotype.dt), pattern=\" \", replacement=\"_\"),colnames(ext.mat) )\n",
    "phenotype.ext.mat =  cbind(phenotype.mat, ext.mat)\n",
    "\n",
    "colnames(phenotype.ext.mat) = phenotpyes\n",
    "\n",
    "\n",
    "\n",
    "\n",
    "# xx = data.table(tissue=substr(rownames(tcga_ssgsea_mat), 1,12), sample=substr(rownames(tcga_ssgsea_mat), 14,15))\n",
    "dir.create(\"/liulab/asahu/data/ssgsea/xiaoman/processed\")\n",
    "write.table(file=\"/liulab/asahu/data/ssgsea/xiaoman/processed/tcga_ssgsea.txt\",x = tcga_ssgsea_sel,\n",
    "            row.names = F, col.names =T,  sep=\"\\t\", quote=F )\n",
    "write.table(file=\"/liulab/asahu/data/ssgsea/xiaoman/processed/tcga_phenotype.txt\",x = phenotype.ext.mat,\n",
    "            row.names = F, col.names =T,  sep=\"\\t\", quote=F )"
   ]
  },
  {
   "cell_type": "code",
   "execution_count": 2,
   "metadata": {},
   "outputs": [],
   "source": [
    "# normalize survival time with cancer type \n",
    "# /n/groups/liu/xiaoman/biomarker_TCGA_type.txt\n",
    "\n",
    "normalize.std = function(tt){\n",
    "    (tt - min(tt, na.rm=T))/(max(tt,na.rm=T) - min(tt, na.rm=T))\n",
    "}\n",
    "cancer.types = unique(phenotype_sel$cancertype)\n",
    "survival_time = phenotype_sel$survive\n",
    "for(ii in cancer.types){\n",
    "    type.inx = which(phenotype_sel$cancertype ==ii)\n",
    "    survival_time[type.inx] = normalize.std(survival_time[type.inx])\n",
    "}\n",
    "phenotype.ext.mat[,1] = survival_time\n"
   ]
  },
  {
   "cell_type": "code",
   "execution_count": null,
   "metadata": {},
   "outputs": [],
   "source": [
    "rand_inx = sample(nrow(tcga_ssgsea_sel))\n",
    "tcga_ssgsea_sel_shuffle = tcga_ssgsea_sel[rand_inx,:]\n",
    "phenotype.ext.mat_shuffle = phenotype.ext.mat[rand_inx,:]\n",
    "\n",
    "write.table(file=\"/liulab/asahu/data/ssgsea/xiaoman/processed/tcga_ssgsea_train.txt\",x = tcga_ssgsea_sel_shuffle[1:5000,],\n",
    "            row.names = F, col.names =T,  sep=\"\\t\", quote=F )\n",
    "write.table(file=\"/liulab/asahu/data/ssgsea/xiaoman/processed/tcga_phenotype_train.txt\",x = phenotype.ext.mat_shuffle[1:5000,],\n",
    "            row.names = F, col.names =T,  sep=\"\\t\", quote=F )\n",
    "\n",
    "write.table(file=\"/liulab/asahu/data/ssgsea/xiaoman/processed/tcga_ssgsea_test.txt\",x = tcga_ssgsea_sel_shuffle[5001:5500,],\n",
    "            row.names = F, col.names =T,  sep=\"\\t\", quote=F )\n",
    "write.table(file=\"/liulab/asahu/data/ssgsea/xiaoman/processed/tcga_phenotype_test.txt\",x = phenotype.ext.mat_shuffle[5001:5500,],\n",
    "            row.names = F, col.names =T,  sep=\"\\t\", quote=F )\n",
    "\n",
    "write.table(file=\"/liulab/asahu/data/ssgsea/xiaoman/processed/tcga_ssgsea_val.txt\",x = tcga_ssgsea_sel_shuffle[5500:nrow(tcga_ssgsea_sel_shuffle),],\n",
    "            row.names = F, col.names =T,  sep=\"\\t\", quote=F )\n",
    "write.table(file=\"/liulab/asahu/data/ssgsea/xiaoman/processed/tcga_phenotype_val.txt\",x = phenotype.ext.mat_shuffle[5500:nrow(tcga_ssgsea_sel_shuffle),],\n",
    "            row.names = F, col.names =T,  sep=\"\\t\", quote=F )\n",
    "\n",
    "system(\"cp -rf /liulab/asahu/data/ssgsea/xiaoman/processed/tcga_*.txt ~/local_data/processed/datasets\")"
   ]
  },
  {
   "cell_type": "code",
   "execution_count": null,
   "metadata": {},
   "outputs": [],
   "source": []
  },
  {
   "cell_type": "code",
   "execution_count": 3,
   "metadata": {},
   "outputs": [
    {
     "data": {
      "text/html": [
       "<ol class=list-inline>\n",
       "\t<li>10912</li>\n",
       "\t<li>4872</li>\n",
       "</ol>\n"
      ],
      "text/latex": [
       "\\begin{enumerate*}\n",
       "\\item 10912\n",
       "\\item 4872\n",
       "\\end{enumerate*}\n"
      ],
      "text/markdown": [
       "1. 10912\n",
       "2. 4872\n",
       "\n",
       "\n"
      ],
      "text/plain": [
       "[1] 10912  4872"
      ]
     },
     "metadata": {},
     "output_type": "display_data"
    }
   ],
   "source": [
    "dim(ssgsea.dt)\n",
    "write.table(file=\"/home/as892/project/icb/risk/models/ssgsea/ssgsea.txt\",  x = ssgsea.dt[1:10,],  sep=\"\\t\", quote=F, row.names=F, col.names=T )"
   ]
  },
  {
   "cell_type": "code",
   "execution_count": 11,
   "metadata": {},
   "outputs": [],
   "source": [
    "system(\"mkdir /home/as892/project/icb/risk/models/tcga\")\n",
    "system(\"mv /home/as892/survData.Rdata /home/as892/project/icb/risk/models/tcga/.\")"
   ]
  },
  {
   "cell_type": "code",
   "execution_count": 5,
   "metadata": {},
   "outputs": [
    {
     "name": "stderr",
     "output_type": "stream",
     "text": [
      "Warning message in eval(expr, envir, enclos):\n",
      "“NAs introduced by coercion”Warning message in eval(expr, envir, enclos):\n",
      "“NAs introduced by coercion”"
     ]
    }
   ],
   "source": [
    "# load(\"/home/as892/project/icb/risk/models/tcga/survData.Rdata\")\n",
    "# load(\"/home/as892/project/icb/risk/models/tcga/pancancer_clinical_tcgabiolinks.RData\")\n",
    "Clinicaldata=read.delim('~/data/tcga/clinical_PANCAN_patient_with_followup.tsv',stringsAsFactors = F)\n",
    "#extract ID,survive info and censor info\n",
    "Clinicaldata_sub=Clinicaldata[,c(2,5,7,8)]\n",
    "#assemble data\n",
    "Clinicaldata_sub[Clinicaldata_sub$vital_status=='Dead','vital_status']=1\n",
    "Clinicaldata_sub[Clinicaldata_sub$vital_status=='Alive','vital_status']=0\n",
    "Clinicaldata_sub$survive=NA\n",
    "Clinicaldata_sub[Clinicaldata_sub$vital_status==1,'survive']<-\n",
    "  Clinicaldata_sub[Clinicaldata_sub$vital_status==1,'days_to_death']\n",
    "Clinicaldata_sub[Clinicaldata_sub$vital_status==0,'survive']<-\n",
    "  Clinicaldata_sub[Clinicaldata_sub$vital_status==0,'days_to_last_followup']\n",
    "Clinicaldata_sub$bcr_patient_barcode=gsub(pattern = '-',replacement = '.',\n",
    "                                          Clinicaldata_sub$bcr_patient_barcode)\n",
    "Clinicaldata_sub=Clinicaldata_sub[,c(1,5,2)]\n",
    "Clinicaldata_sub$survive=as.numeric(Clinicaldata_sub$survive)\n",
    "Clinicaldata_sub$vital_status=as.numeric(Clinicaldata_sub$vital_status)\n",
    "Clinicaldata_sub = Clinicaldata_sub[!(is.na(Clinicaldata_sub$survive) | is.na(Clinicaldata_sub$vital_status)),]"
   ]
  },
  {
   "cell_type": "code",
   "execution_count": 8,
   "metadata": {},
   "outputs": [
    {
     "data": {
      "text/html": [
       "<ol class=list-inline>\n",
       "\t<li>10956</li>\n",
       "\t<li>3</li>\n",
       "</ol>\n"
      ],
      "text/latex": [
       "\\begin{enumerate*}\n",
       "\\item 10956\n",
       "\\item 3\n",
       "\\end{enumerate*}\n"
      ],
      "text/markdown": [
       "1. 10956\n",
       "2. 3\n",
       "\n",
       "\n"
      ],
      "text/plain": [
       "[1] 10956     3"
      ]
     },
     "metadata": {},
     "output_type": "display_data"
    },
    {
     "data": {
      "text/html": [
       "<ol class=list-inline>\n",
       "\t<li>10912</li>\n",
       "\t<li>4872</li>\n",
       "</ol>\n"
      ],
      "text/latex": [
       "\\begin{enumerate*}\n",
       "\\item 10912\n",
       "\\item 4872\n",
       "\\end{enumerate*}\n"
      ],
      "text/markdown": [
       "1. 10912\n",
       "2. 4872\n",
       "\n",
       "\n"
      ],
      "text/plain": [
       "[1] 10912  4872"
      ]
     },
     "metadata": {},
     "output_type": "display_data"
    }
   ],
   "source": [
    "dim(Clinicaldata_sub)\n",
    "dim(ssgsea.dt)"
   ]
  },
  {
   "cell_type": "markdown",
   "metadata": {},
   "source": [
    "### 1 is death and 0 is censor  "
   ]
  },
  {
   "cell_type": "code",
   "execution_count": 4,
   "metadata": {},
   "outputs": [
    {
     "data": {
      "text/html": [
       "<ol class=list-inline>\n",
       "\t<li>'TCGA.OR.A5J1.01A'</li>\n",
       "\t<li>'TCGA.OR.A5J2.01A'</li>\n",
       "\t<li>'TCGA.OR.A5J3.01A'</li>\n",
       "\t<li>'TCGA.OR.A5J5.01A'</li>\n",
       "\t<li>'TCGA.OR.A5J6.01A'</li>\n",
       "\t<li>'TCGA.OR.A5J7.01A'</li>\n",
       "</ol>\n"
      ],
      "text/latex": [
       "\\begin{enumerate*}\n",
       "\\item 'TCGA.OR.A5J1.01A'\n",
       "\\item 'TCGA.OR.A5J2.01A'\n",
       "\\item 'TCGA.OR.A5J3.01A'\n",
       "\\item 'TCGA.OR.A5J5.01A'\n",
       "\\item 'TCGA.OR.A5J6.01A'\n",
       "\\item 'TCGA.OR.A5J7.01A'\n",
       "\\end{enumerate*}\n"
      ],
      "text/markdown": [
       "1. 'TCGA.OR.A5J1.01A'\n",
       "2. 'TCGA.OR.A5J2.01A'\n",
       "3. 'TCGA.OR.A5J3.01A'\n",
       "4. 'TCGA.OR.A5J5.01A'\n",
       "5. 'TCGA.OR.A5J6.01A'\n",
       "6. 'TCGA.OR.A5J7.01A'\n",
       "\n",
       "\n"
      ],
      "text/plain": [
       "[1] \"TCGA.OR.A5J1.01A\" \"TCGA.OR.A5J2.01A\" \"TCGA.OR.A5J3.01A\" \"TCGA.OR.A5J5.01A\"\n",
       "[5] \"TCGA.OR.A5J6.01A\" \"TCGA.OR.A5J7.01A\""
      ]
     },
     "metadata": {},
     "output_type": "display_data"
    }
   ],
   "source": [
    "head(rownames(ssgsea.dt))"
   ]
  },
  {
   "cell_type": "code",
   "execution_count": 11,
   "metadata": {},
   "outputs": [
    {
     "data": {
      "text/html": [
       "10049"
      ],
      "text/latex": [
       "10049"
      ],
      "text/markdown": [
       "10049"
      ],
      "text/plain": [
       "[1] 10049"
      ]
     },
     "metadata": {},
     "output_type": "display_data"
    }
   ],
   "source": [
    "ssgsea.samp = substr(rownames(ssgsea.dt),1,12) \n",
    "common.samp = intersect(ssgsea.samp, Clinicaldata_sub$bcr_patient_barcode)\n",
    "length(common.samp)\n",
    "ssgsea.matched = ssgsea.dt[match(common.samp, ssgsea.samp), ]\n",
    "survival.matched = Clinicaldata_sub[match(common.samp, Clinicaldata_sub$bcr_patient_barcode), ]"
   ]
  },
  {
   "cell_type": "code",
   "execution_count": 14,
   "metadata": {},
   "outputs": [],
   "source": [
    "write.table(file=\"/home/as892/project/icb/data/tcga_ssgsea.txt\",x = ssgsea.matched,\n",
    "            row.names = F, col.names =T,  sep=\"\\t\", quote=F )\n",
    "write.table(file=\"/home/as892/project/icb/data/tcga_survival.txt\",x = survival.matched[,2:3],\n",
    "            row.names = F, col.names =T,  sep=\"\\t\", quote=F )"
   ]
  },
  {
   "cell_type": "code",
   "execution_count": null,
   "metadata": {},
   "outputs": [],
   "source": []
  }
 ],
 "metadata": {
  "kernelspec": {
   "display_name": "Python 3",
   "language": "python",
   "name": "python3"
  },
  "language_info": {
   "codemirror_mode": {
    "name": "ipython",
    "version": 3
   },
   "file_extension": ".py",
   "mimetype": "text/x-python",
   "name": "python",
   "nbconvert_exporter": "python",
   "pygments_lexer": "ipython3",
   "version": "3.7.1"
  }
 },
 "nbformat": 4,
 "nbformat_minor": 2
}
